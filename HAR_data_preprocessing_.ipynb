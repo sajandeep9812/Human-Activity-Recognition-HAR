{
  "nbformat": 4,
  "nbformat_minor": 0,
  "metadata": {
    "colab": {
      "provenance": []
    },
    "kernelspec": {
      "name": "python3",
      "display_name": "Python 3"
    },
    "language_info": {
      "name": "python"
    }
  },
  "cells": [
    {
      "cell_type": "code",
      "execution_count": null,
      "metadata": {
        "id": "1CwlQaFVYuYa"
      },
      "outputs": [],
      "source": [
        "import pandas as pd\n",
        "import numpy as np\n",
        "import matplotlib.pyplot as plt\n",
        "import seaborn as sns\n",
        "import os"
      ]
    },
    {
      "cell_type": "markdown",
      "source": [
        "LOADING DATA"
      ],
      "metadata": {
        "id": "IZ88fprrehP_"
      }
    },
    {
      "cell_type": "code",
      "source": [
        "def load_files(relative_folder_path: str, sep=' ', header = None):\n",
        "  base_path = \"/content/drive/MyDrive\"\n",
        "  target_path = os.path.join(base_path, relative_folder_path)\n",
        "\n",
        "  data_dict = {}\n",
        "\n",
        "  for root, _ ,files in os.walk(target_path):\n",
        "    for file in files:\n",
        "      full_path = os.path.join(root, file)\n",
        "      rel_key = os.path.relpath(full_path, base_path)\n",
        "      try:\n",
        "        df = pd.read_csv(full_path, sep=sep, header= header)\n",
        "        data_dict[rel_key] = df\n",
        "        print(f'Loaded: {rel_key}')\n",
        "      except Exception as e:\n",
        "        print(f'Error loading {rel_key}: {e}')\n",
        "\n",
        "  return data_dict"
      ],
      "metadata": {
        "id": "7GdVtXwPYzLc"
      },
      "execution_count": null,
      "outputs": []
    },
    {
      "cell_type": "code",
      "source": [
        "pamap2_data = load_files('PAMAP2_Dataset/Protocol')"
      ],
      "metadata": {
        "colab": {
          "base_uri": "https://localhost:8080/"
        },
        "id": "nslXxcqkY0Y3",
        "outputId": "b8c7975e-a292-4d60-db49-02ebdde54afd"
      },
      "execution_count": null,
      "outputs": [
        {
          "output_type": "stream",
          "name": "stdout",
          "text": [
            "Loaded: PAMAP2_Dataset/Protocol/subject101.dat\n",
            "Loaded: PAMAP2_Dataset/Protocol/subject102.dat\n",
            "Loaded: PAMAP2_Dataset/Protocol/subject103.dat\n",
            "Loaded: PAMAP2_Dataset/Protocol/subject104.dat\n",
            "Loaded: PAMAP2_Dataset/Protocol/subject105.dat\n",
            "Loaded: PAMAP2_Dataset/Protocol/subject106.dat\n",
            "Loaded: PAMAP2_Dataset/Protocol/subject107.dat\n",
            "Loaded: PAMAP2_Dataset/Protocol/subject108.dat\n",
            "Loaded: PAMAP2_Dataset/Protocol/subject109.dat\n"
          ]
        }
      ]
    },
    {
      "cell_type": "markdown",
      "source": [
        "RENAMING COLUMNS"
      ],
      "metadata": {
        "id": "9xuKBRdKel-Q"
      }
    },
    {
      "cell_type": "code",
      "source": [
        "def rename_pamap2_columns(df):\n",
        "    columns = [\n",
        "        # General\n",
        "        \"timestamp\", \"activity_id\", \"heart_rate\",\n",
        "\n",
        "        # Hand IMU\n",
        "        \"hand_temp\", \"hand_acc_16g_x\", \"hand_acc_16g_y\", \"hand_acc_16g_z\",\n",
        "        \"hand_acc_6g_x\", \"hand_acc_6g_y\", \"hand_acc_6g_z\",\n",
        "        \"hand_gyro_x\", \"hand_gyro_y\", \"hand_gyro_z\",\n",
        "        \"hand_mag_x\", \"hand_mag_y\", \"hand_mag_z\",\n",
        "        \"hand_ori_w\", \"hand_ori_x\", \"hand_ori_y\", \"hand_ori_z\",\n",
        "\n",
        "        # Chest IMU\n",
        "        \"chest_temp\", \"chest_acc_16g_x\", \"chest_acc_16g_y\", \"chest_acc_16g_z\",\n",
        "        \"chest_acc_6g_x\", \"chest_acc_6g_y\", \"chest_acc_6g_z\",\n",
        "        \"chest_gyro_x\", \"chest_gyro_y\", \"chest_gyro_z\",\n",
        "        \"chest_mag_x\", \"chest_mag_y\", \"chest_mag_z\",\n",
        "        \"chest_ori_w\", \"chest_ori_x\", \"chest_ori_y\", \"chest_ori_z\",\n",
        "\n",
        "        # Ankle IMU\n",
        "        \"ankle_temp\", \"ankle_acc_16g_x\", \"ankle_acc_16g_y\", \"ankle_acc_16g_z\",\n",
        "        \"ankle_acc_6g_x\", \"ankle_acc_6g_y\", \"ankle_acc_6g_z\",\n",
        "        \"ankle_gyro_x\", \"ankle_gyro_y\", \"ankle_gyro_z\",\n",
        "        \"ankle_mag_x\", \"ankle_mag_y\", \"ankle_mag_z\",\n",
        "        \"ankle_ori_w\", \"ankle_ori_x\", \"ankle_ori_y\", \"ankle_ori_z\",\n",
        "    ]\n",
        "\n",
        "    # assert df.shape[1] == 54, \"Expected 54 columns for PAMAP2 .dat files\"\n",
        "    df.columns = columns\n",
        "    return df"
      ],
      "metadata": {
        "id": "FbY_jtitZDNg"
      },
      "execution_count": null,
      "outputs": []
    },
    {
      "cell_type": "code",
      "source": [
        "for file in pamap2_data:\n",
        "    pamap2_data[file] = rename_pamap2_columns(pamap2_data[file])"
      ],
      "metadata": {
        "id": "7zmj0jLoZZmc"
      },
      "execution_count": null,
      "outputs": []
    },
    {
      "cell_type": "markdown",
      "source": [
        "DROPING UNWANTED COLUMNS"
      ],
      "metadata": {
        "id": "QvWMI9uReqIK"
      }
    },
    {
      "cell_type": "code",
      "source": [
        "drop_cols = [\n",
        "    'timestamp', 'hand_temp', 'chest_temp', 'ankle_temp', 'heart_rate',\n",
        "    \"ankle_ori_w\", \"ankle_ori_x\", \"ankle_ori_y\", \"ankle_ori_z\",\n",
        "    \"chest_ori_w\", \"chest_ori_x\", \"chest_ori_y\", \"chest_ori_z\",\n",
        "    \"hand_ori_w\", \"hand_ori_x\", \"hand_ori_y\", \"hand_ori_z\",\n",
        "    \"ankle_mag_x\", \"ankle_mag_y\",\t\"ankle_mag_z\",\n",
        "    \"chest_mag_x\", \"chest_mag_y\",\t\"chest_mag_z\",\n",
        "    \"hand_mag_x\", \"hand_mag_y\",\t\"hand_mag_z\",\n",
        "    \"ankle_temp\", \"ankle_acc_16g_x\", \"ankle_acc_16g_y\", \"ankle_acc_16g_z\",\n",
        "    \"chest_temp\", \"chest_acc_16g_x\", \"chest_acc_16g_y\", \"chest_acc_16g_z\",\n",
        "    \"hand_temp\", \"hand_acc_16g_x\", \"hand_acc_16g_y\", \"hand_acc_16g_z\",\n",
        "]\n",
        "\n",
        "for filename in pamap2_data:\n",
        "    pamap2_data[filename] = pamap2_data[filename].drop(columns=drop_cols)"
      ],
      "metadata": {
        "id": "7v2dHr6ndRNy"
      },
      "execution_count": null,
      "outputs": []
    },
    {
      "cell_type": "code",
      "source": [
        "df=pamap2_data['PAMAP2_Dataset/Protocol/subject101.dat']"
      ],
      "metadata": {
        "id": "baFrKCCoe-mU"
      },
      "execution_count": null,
      "outputs": []
    },
    {
      "cell_type": "code",
      "source": [
        "df.head()"
      ],
      "metadata": {
        "colab": {
          "base_uri": "https://localhost:8080/",
          "height": 226
        },
        "id": "1VWT7oVYgDix",
        "outputId": "6b25b6be-bae3-49c2-a483-2145e2801932"
      },
      "execution_count": null,
      "outputs": [
        {
          "output_type": "execute_result",
          "data": {
            "text/plain": [
              "   activity_id  hand_acc_6g_x  hand_acc_6g_y  hand_acc_6g_z  hand_gyro_x  \\\n",
              "0            0        2.43954        8.76165        3.35465    -0.092217   \n",
              "1            0        2.39494        8.55081        3.64207    -0.024413   \n",
              "2            0        2.30514        8.53644        3.73280    -0.057976   \n",
              "3            0        2.33528        8.53622        3.73277    -0.002352   \n",
              "4            0        2.23055        8.59741        3.76295     0.012269   \n",
              "\n",
              "   hand_gyro_y  hand_gyro_z  chest_acc_6g_x  chest_acc_6g_y  chest_acc_6g_z  \\\n",
              "0     0.056812    -0.015845        0.265304         9.81549        -1.41344   \n",
              "1     0.047759     0.006474        0.234939         9.78539        -1.42846   \n",
              "2     0.032574    -0.006988        0.173850         9.72528        -1.51894   \n",
              "3     0.032810    -0.003747        0.157969         9.64994        -1.57952   \n",
              "4     0.018305    -0.053325        0.233506         9.57411        -1.44418   \n",
              "\n",
              "   chest_gyro_x  chest_gyro_y  chest_gyro_z  ankle_acc_6g_x  ankle_acc_6g_y  \\\n",
              "0     -0.005065     -0.006781     -0.005663         9.64689        -1.55576   \n",
              "1      0.013685      0.001486     -0.041522         9.61670        -1.61630   \n",
              "2     -0.039923      0.034056     -0.002113         9.63173        -1.58605   \n",
              "3      0.007513     -0.010498     -0.020684         9.63197        -1.63135   \n",
              "4     -0.003822     -0.011217     -0.025975         9.64699        -1.64647   \n",
              "\n",
              "   ankle_acc_6g_z  ankle_gyro_x  ankle_gyro_y  ankle_gyro_z  \n",
              "0        0.310404      0.008300      0.009250     -0.017580  \n",
              "1        0.280488     -0.006577     -0.004638      0.000368  \n",
              "2        0.280311      0.003014      0.000148      0.022495  \n",
              "3        0.340997      0.003175     -0.020301      0.011275  \n",
              "4        0.340965      0.012698     -0.014303     -0.002823  "
            ],
            "text/html": [
              "\n",
              "  <div id=\"df-3b355f47-e75c-4f4a-a7a5-d7035d57732e\" class=\"colab-df-container\">\n",
              "    <div>\n",
              "<style scoped>\n",
              "    .dataframe tbody tr th:only-of-type {\n",
              "        vertical-align: middle;\n",
              "    }\n",
              "\n",
              "    .dataframe tbody tr th {\n",
              "        vertical-align: top;\n",
              "    }\n",
              "\n",
              "    .dataframe thead th {\n",
              "        text-align: right;\n",
              "    }\n",
              "</style>\n",
              "<table border=\"1\" class=\"dataframe\">\n",
              "  <thead>\n",
              "    <tr style=\"text-align: right;\">\n",
              "      <th></th>\n",
              "      <th>activity_id</th>\n",
              "      <th>hand_acc_6g_x</th>\n",
              "      <th>hand_acc_6g_y</th>\n",
              "      <th>hand_acc_6g_z</th>\n",
              "      <th>hand_gyro_x</th>\n",
              "      <th>hand_gyro_y</th>\n",
              "      <th>hand_gyro_z</th>\n",
              "      <th>chest_acc_6g_x</th>\n",
              "      <th>chest_acc_6g_y</th>\n",
              "      <th>chest_acc_6g_z</th>\n",
              "      <th>chest_gyro_x</th>\n",
              "      <th>chest_gyro_y</th>\n",
              "      <th>chest_gyro_z</th>\n",
              "      <th>ankle_acc_6g_x</th>\n",
              "      <th>ankle_acc_6g_y</th>\n",
              "      <th>ankle_acc_6g_z</th>\n",
              "      <th>ankle_gyro_x</th>\n",
              "      <th>ankle_gyro_y</th>\n",
              "      <th>ankle_gyro_z</th>\n",
              "    </tr>\n",
              "  </thead>\n",
              "  <tbody>\n",
              "    <tr>\n",
              "      <th>0</th>\n",
              "      <td>0</td>\n",
              "      <td>2.43954</td>\n",
              "      <td>8.76165</td>\n",
              "      <td>3.35465</td>\n",
              "      <td>-0.092217</td>\n",
              "      <td>0.056812</td>\n",
              "      <td>-0.015845</td>\n",
              "      <td>0.265304</td>\n",
              "      <td>9.81549</td>\n",
              "      <td>-1.41344</td>\n",
              "      <td>-0.005065</td>\n",
              "      <td>-0.006781</td>\n",
              "      <td>-0.005663</td>\n",
              "      <td>9.64689</td>\n",
              "      <td>-1.55576</td>\n",
              "      <td>0.310404</td>\n",
              "      <td>0.008300</td>\n",
              "      <td>0.009250</td>\n",
              "      <td>-0.017580</td>\n",
              "    </tr>\n",
              "    <tr>\n",
              "      <th>1</th>\n",
              "      <td>0</td>\n",
              "      <td>2.39494</td>\n",
              "      <td>8.55081</td>\n",
              "      <td>3.64207</td>\n",
              "      <td>-0.024413</td>\n",
              "      <td>0.047759</td>\n",
              "      <td>0.006474</td>\n",
              "      <td>0.234939</td>\n",
              "      <td>9.78539</td>\n",
              "      <td>-1.42846</td>\n",
              "      <td>0.013685</td>\n",
              "      <td>0.001486</td>\n",
              "      <td>-0.041522</td>\n",
              "      <td>9.61670</td>\n",
              "      <td>-1.61630</td>\n",
              "      <td>0.280488</td>\n",
              "      <td>-0.006577</td>\n",
              "      <td>-0.004638</td>\n",
              "      <td>0.000368</td>\n",
              "    </tr>\n",
              "    <tr>\n",
              "      <th>2</th>\n",
              "      <td>0</td>\n",
              "      <td>2.30514</td>\n",
              "      <td>8.53644</td>\n",
              "      <td>3.73280</td>\n",
              "      <td>-0.057976</td>\n",
              "      <td>0.032574</td>\n",
              "      <td>-0.006988</td>\n",
              "      <td>0.173850</td>\n",
              "      <td>9.72528</td>\n",
              "      <td>-1.51894</td>\n",
              "      <td>-0.039923</td>\n",
              "      <td>0.034056</td>\n",
              "      <td>-0.002113</td>\n",
              "      <td>9.63173</td>\n",
              "      <td>-1.58605</td>\n",
              "      <td>0.280311</td>\n",
              "      <td>0.003014</td>\n",
              "      <td>0.000148</td>\n",
              "      <td>0.022495</td>\n",
              "    </tr>\n",
              "    <tr>\n",
              "      <th>3</th>\n",
              "      <td>0</td>\n",
              "      <td>2.33528</td>\n",
              "      <td>8.53622</td>\n",
              "      <td>3.73277</td>\n",
              "      <td>-0.002352</td>\n",
              "      <td>0.032810</td>\n",
              "      <td>-0.003747</td>\n",
              "      <td>0.157969</td>\n",
              "      <td>9.64994</td>\n",
              "      <td>-1.57952</td>\n",
              "      <td>0.007513</td>\n",
              "      <td>-0.010498</td>\n",
              "      <td>-0.020684</td>\n",
              "      <td>9.63197</td>\n",
              "      <td>-1.63135</td>\n",
              "      <td>0.340997</td>\n",
              "      <td>0.003175</td>\n",
              "      <td>-0.020301</td>\n",
              "      <td>0.011275</td>\n",
              "    </tr>\n",
              "    <tr>\n",
              "      <th>4</th>\n",
              "      <td>0</td>\n",
              "      <td>2.23055</td>\n",
              "      <td>8.59741</td>\n",
              "      <td>3.76295</td>\n",
              "      <td>0.012269</td>\n",
              "      <td>0.018305</td>\n",
              "      <td>-0.053325</td>\n",
              "      <td>0.233506</td>\n",
              "      <td>9.57411</td>\n",
              "      <td>-1.44418</td>\n",
              "      <td>-0.003822</td>\n",
              "      <td>-0.011217</td>\n",
              "      <td>-0.025975</td>\n",
              "      <td>9.64699</td>\n",
              "      <td>-1.64647</td>\n",
              "      <td>0.340965</td>\n",
              "      <td>0.012698</td>\n",
              "      <td>-0.014303</td>\n",
              "      <td>-0.002823</td>\n",
              "    </tr>\n",
              "  </tbody>\n",
              "</table>\n",
              "</div>\n",
              "    <div class=\"colab-df-buttons\">\n",
              "\n",
              "  <div class=\"colab-df-container\">\n",
              "    <button class=\"colab-df-convert\" onclick=\"convertToInteractive('df-3b355f47-e75c-4f4a-a7a5-d7035d57732e')\"\n",
              "            title=\"Convert this dataframe to an interactive table.\"\n",
              "            style=\"display:none;\">\n",
              "\n",
              "  <svg xmlns=\"http://www.w3.org/2000/svg\" height=\"24px\" viewBox=\"0 -960 960 960\">\n",
              "    <path d=\"M120-120v-720h720v720H120Zm60-500h600v-160H180v160Zm220 220h160v-160H400v160Zm0 220h160v-160H400v160ZM180-400h160v-160H180v160Zm440 0h160v-160H620v160ZM180-180h160v-160H180v160Zm440 0h160v-160H620v160Z\"/>\n",
              "  </svg>\n",
              "    </button>\n",
              "\n",
              "  <style>\n",
              "    .colab-df-container {\n",
              "      display:flex;\n",
              "      gap: 12px;\n",
              "    }\n",
              "\n",
              "    .colab-df-convert {\n",
              "      background-color: #E8F0FE;\n",
              "      border: none;\n",
              "      border-radius: 50%;\n",
              "      cursor: pointer;\n",
              "      display: none;\n",
              "      fill: #1967D2;\n",
              "      height: 32px;\n",
              "      padding: 0 0 0 0;\n",
              "      width: 32px;\n",
              "    }\n",
              "\n",
              "    .colab-df-convert:hover {\n",
              "      background-color: #E2EBFA;\n",
              "      box-shadow: 0px 1px 2px rgba(60, 64, 67, 0.3), 0px 1px 3px 1px rgba(60, 64, 67, 0.15);\n",
              "      fill: #174EA6;\n",
              "    }\n",
              "\n",
              "    .colab-df-buttons div {\n",
              "      margin-bottom: 4px;\n",
              "    }\n",
              "\n",
              "    [theme=dark] .colab-df-convert {\n",
              "      background-color: #3B4455;\n",
              "      fill: #D2E3FC;\n",
              "    }\n",
              "\n",
              "    [theme=dark] .colab-df-convert:hover {\n",
              "      background-color: #434B5C;\n",
              "      box-shadow: 0px 1px 3px 1px rgba(0, 0, 0, 0.15);\n",
              "      filter: drop-shadow(0px 1px 2px rgba(0, 0, 0, 0.3));\n",
              "      fill: #FFFFFF;\n",
              "    }\n",
              "  </style>\n",
              "\n",
              "    <script>\n",
              "      const buttonEl =\n",
              "        document.querySelector('#df-3b355f47-e75c-4f4a-a7a5-d7035d57732e button.colab-df-convert');\n",
              "      buttonEl.style.display =\n",
              "        google.colab.kernel.accessAllowed ? 'block' : 'none';\n",
              "\n",
              "      async function convertToInteractive(key) {\n",
              "        const element = document.querySelector('#df-3b355f47-e75c-4f4a-a7a5-d7035d57732e');\n",
              "        const dataTable =\n",
              "          await google.colab.kernel.invokeFunction('convertToInteractive',\n",
              "                                                    [key], {});\n",
              "        if (!dataTable) return;\n",
              "\n",
              "        const docLinkHtml = 'Like what you see? Visit the ' +\n",
              "          '<a target=\"_blank\" href=https://colab.research.google.com/notebooks/data_table.ipynb>data table notebook</a>'\n",
              "          + ' to learn more about interactive tables.';\n",
              "        element.innerHTML = '';\n",
              "        dataTable['output_type'] = 'display_data';\n",
              "        await google.colab.output.renderOutput(dataTable, element);\n",
              "        const docLink = document.createElement('div');\n",
              "        docLink.innerHTML = docLinkHtml;\n",
              "        element.appendChild(docLink);\n",
              "      }\n",
              "    </script>\n",
              "  </div>\n",
              "\n",
              "\n",
              "    <div id=\"df-dc30c0f6-0e30-4b67-abb0-00212ebe4f86\">\n",
              "      <button class=\"colab-df-quickchart\" onclick=\"quickchart('df-dc30c0f6-0e30-4b67-abb0-00212ebe4f86')\"\n",
              "                title=\"Suggest charts\"\n",
              "                style=\"display:none;\">\n",
              "\n",
              "<svg xmlns=\"http://www.w3.org/2000/svg\" height=\"24px\"viewBox=\"0 0 24 24\"\n",
              "     width=\"24px\">\n",
              "    <g>\n",
              "        <path d=\"M19 3H5c-1.1 0-2 .9-2 2v14c0 1.1.9 2 2 2h14c1.1 0 2-.9 2-2V5c0-1.1-.9-2-2-2zM9 17H7v-7h2v7zm4 0h-2V7h2v10zm4 0h-2v-4h2v4z\"/>\n",
              "    </g>\n",
              "</svg>\n",
              "      </button>\n",
              "\n",
              "<style>\n",
              "  .colab-df-quickchart {\n",
              "      --bg-color: #E8F0FE;\n",
              "      --fill-color: #1967D2;\n",
              "      --hover-bg-color: #E2EBFA;\n",
              "      --hover-fill-color: #174EA6;\n",
              "      --disabled-fill-color: #AAA;\n",
              "      --disabled-bg-color: #DDD;\n",
              "  }\n",
              "\n",
              "  [theme=dark] .colab-df-quickchart {\n",
              "      --bg-color: #3B4455;\n",
              "      --fill-color: #D2E3FC;\n",
              "      --hover-bg-color: #434B5C;\n",
              "      --hover-fill-color: #FFFFFF;\n",
              "      --disabled-bg-color: #3B4455;\n",
              "      --disabled-fill-color: #666;\n",
              "  }\n",
              "\n",
              "  .colab-df-quickchart {\n",
              "    background-color: var(--bg-color);\n",
              "    border: none;\n",
              "    border-radius: 50%;\n",
              "    cursor: pointer;\n",
              "    display: none;\n",
              "    fill: var(--fill-color);\n",
              "    height: 32px;\n",
              "    padding: 0;\n",
              "    width: 32px;\n",
              "  }\n",
              "\n",
              "  .colab-df-quickchart:hover {\n",
              "    background-color: var(--hover-bg-color);\n",
              "    box-shadow: 0 1px 2px rgba(60, 64, 67, 0.3), 0 1px 3px 1px rgba(60, 64, 67, 0.15);\n",
              "    fill: var(--button-hover-fill-color);\n",
              "  }\n",
              "\n",
              "  .colab-df-quickchart-complete:disabled,\n",
              "  .colab-df-quickchart-complete:disabled:hover {\n",
              "    background-color: var(--disabled-bg-color);\n",
              "    fill: var(--disabled-fill-color);\n",
              "    box-shadow: none;\n",
              "  }\n",
              "\n",
              "  .colab-df-spinner {\n",
              "    border: 2px solid var(--fill-color);\n",
              "    border-color: transparent;\n",
              "    border-bottom-color: var(--fill-color);\n",
              "    animation:\n",
              "      spin 1s steps(1) infinite;\n",
              "  }\n",
              "\n",
              "  @keyframes spin {\n",
              "    0% {\n",
              "      border-color: transparent;\n",
              "      border-bottom-color: var(--fill-color);\n",
              "      border-left-color: var(--fill-color);\n",
              "    }\n",
              "    20% {\n",
              "      border-color: transparent;\n",
              "      border-left-color: var(--fill-color);\n",
              "      border-top-color: var(--fill-color);\n",
              "    }\n",
              "    30% {\n",
              "      border-color: transparent;\n",
              "      border-left-color: var(--fill-color);\n",
              "      border-top-color: var(--fill-color);\n",
              "      border-right-color: var(--fill-color);\n",
              "    }\n",
              "    40% {\n",
              "      border-color: transparent;\n",
              "      border-right-color: var(--fill-color);\n",
              "      border-top-color: var(--fill-color);\n",
              "    }\n",
              "    60% {\n",
              "      border-color: transparent;\n",
              "      border-right-color: var(--fill-color);\n",
              "    }\n",
              "    80% {\n",
              "      border-color: transparent;\n",
              "      border-right-color: var(--fill-color);\n",
              "      border-bottom-color: var(--fill-color);\n",
              "    }\n",
              "    90% {\n",
              "      border-color: transparent;\n",
              "      border-bottom-color: var(--fill-color);\n",
              "    }\n",
              "  }\n",
              "</style>\n",
              "\n",
              "      <script>\n",
              "        async function quickchart(key) {\n",
              "          const quickchartButtonEl =\n",
              "            document.querySelector('#' + key + ' button');\n",
              "          quickchartButtonEl.disabled = true;  // To prevent multiple clicks.\n",
              "          quickchartButtonEl.classList.add('colab-df-spinner');\n",
              "          try {\n",
              "            const charts = await google.colab.kernel.invokeFunction(\n",
              "                'suggestCharts', [key], {});\n",
              "          } catch (error) {\n",
              "            console.error('Error during call to suggestCharts:', error);\n",
              "          }\n",
              "          quickchartButtonEl.classList.remove('colab-df-spinner');\n",
              "          quickchartButtonEl.classList.add('colab-df-quickchart-complete');\n",
              "        }\n",
              "        (() => {\n",
              "          let quickchartButtonEl =\n",
              "            document.querySelector('#df-dc30c0f6-0e30-4b67-abb0-00212ebe4f86 button');\n",
              "          quickchartButtonEl.style.display =\n",
              "            google.colab.kernel.accessAllowed ? 'block' : 'none';\n",
              "        })();\n",
              "      </script>\n",
              "    </div>\n",
              "\n",
              "    </div>\n",
              "  </div>\n"
            ],
            "application/vnd.google.colaboratory.intrinsic+json": {
              "type": "dataframe",
              "variable_name": "df"
            }
          },
          "metadata": {},
          "execution_count": 12
        }
      ]
    },
    {
      "cell_type": "code",
      "source": [
        "print(df.isna().sum())"
      ],
      "metadata": {
        "colab": {
          "base_uri": "https://localhost:8080/"
        },
        "id": "XZ9ISXDNhJTV",
        "outputId": "f7f3ac7e-63fe-4ded-a6e5-4d0dc35741f7"
      },
      "execution_count": null,
      "outputs": [
        {
          "output_type": "stream",
          "name": "stdout",
          "text": [
            "activity_id          0\n",
            "hand_acc_6g_x     1454\n",
            "hand_acc_6g_y     1454\n",
            "hand_acc_6g_z     1454\n",
            "hand_gyro_x       1454\n",
            "hand_gyro_y       1454\n",
            "hand_gyro_z       1454\n",
            "chest_acc_6g_x     509\n",
            "chest_acc_6g_y     509\n",
            "chest_acc_6g_z     509\n",
            "chest_gyro_x       509\n",
            "chest_gyro_y       509\n",
            "chest_gyro_z       509\n",
            "ankle_acc_6g_x    1327\n",
            "ankle_acc_6g_y    1327\n",
            "ankle_acc_6g_z    1327\n",
            "ankle_gyro_x      1327\n",
            "ankle_gyro_y      1327\n",
            "ankle_gyro_z      1327\n",
            "dtype: int64\n"
          ]
        }
      ]
    },
    {
      "cell_type": "code",
      "source": [
        "missing_percentage = (df.isna().sum() / len(df)) * 100\n",
        "print(missing_percentage)"
      ],
      "metadata": {
        "colab": {
          "base_uri": "https://localhost:8080/"
        },
        "id": "hRXt8VDghM6G",
        "outputId": "e4bbdfab-31d5-4b8e-d611-a9277bd0fc68"
      },
      "execution_count": null,
      "outputs": [
        {
          "output_type": "stream",
          "name": "stdout",
          "text": [
            "activity_id       0.000000\n",
            "hand_acc_6g_x     0.386274\n",
            "hand_acc_6g_y     0.386274\n",
            "hand_acc_6g_z     0.386274\n",
            "hand_gyro_x       0.386274\n",
            "hand_gyro_y       0.386274\n",
            "hand_gyro_z       0.386274\n",
            "chest_acc_6g_x    0.135222\n",
            "chest_acc_6g_y    0.135222\n",
            "chest_acc_6g_z    0.135222\n",
            "chest_gyro_x      0.135222\n",
            "chest_gyro_y      0.135222\n",
            "chest_gyro_z      0.135222\n",
            "ankle_acc_6g_x    0.352535\n",
            "ankle_acc_6g_y    0.352535\n",
            "ankle_acc_6g_z    0.352535\n",
            "ankle_gyro_x      0.352535\n",
            "ankle_gyro_y      0.352535\n",
            "ankle_gyro_z      0.352535\n",
            "dtype: float64\n"
          ]
        }
      ]
    },
    {
      "cell_type": "code",
      "source": [
        "df_cleaned = df.dropna().reset_index(drop=True)\n",
        "print(f\"Original shape: {df.shape}, After dropping NaNs: {df_cleaned.shape}\")"
      ],
      "metadata": {
        "colab": {
          "base_uri": "https://localhost:8080/"
        },
        "id": "vQYHXVUYikZA",
        "outputId": "3a2f63a0-1a21-45cd-b4e4-25d602572ef1"
      },
      "execution_count": null,
      "outputs": [
        {
          "output_type": "stream",
          "name": "stdout",
          "text": [
            "Original shape: (376417, 19), After dropping NaNs: (373161, 19)\n"
          ]
        }
      ]
    },
    {
      "cell_type": "code",
      "source": [
        "# Loop through each file in the PAMAP2 dataset\n",
        "for file_name, df in pamap2_data.items():\n",
        "    # Calculate % of missing values\n",
        "    missing_percentage = (df.isna().sum() / len(df)) * 100\n",
        "    total_missing = df.isna().sum().sum()\n",
        "\n",
        "    print(f\"\\n {file_name}\")\n",
        "    print(f\"➤ Total rows: {len(df)} | Total NaNs: {total_missing}\")\n",
        "    print(\"➤ Missing percentage per column (only showing > 0%):\")\n",
        "    print(missing_percentage[missing_percentage > 0].round(3))  # Round for neatness\n"
      ],
      "metadata": {
        "colab": {
          "base_uri": "https://localhost:8080/"
        },
        "id": "ujQbphfNiye3",
        "outputId": "8e474e11-eab2-4473-ef0a-deea9121ceca"
      },
      "execution_count": null,
      "outputs": [
        {
          "output_type": "stream",
          "name": "stdout",
          "text": [
            "\n",
            " PAMAP2_Dataset/Protocol/subject101.dat\n",
            "➤ Total rows: 376417 | Total NaNs: 19740\n",
            "➤ Missing percentage per column (only showing > 0%):\n",
            "hand_acc_6g_x     0.386\n",
            "hand_acc_6g_y     0.386\n",
            "hand_acc_6g_z     0.386\n",
            "hand_gyro_x       0.386\n",
            "hand_gyro_y       0.386\n",
            "hand_gyro_z       0.386\n",
            "chest_acc_6g_x    0.135\n",
            "chest_acc_6g_y    0.135\n",
            "chest_acc_6g_z    0.135\n",
            "chest_gyro_x      0.135\n",
            "chest_gyro_y      0.135\n",
            "chest_gyro_z      0.135\n",
            "ankle_acc_6g_x    0.353\n",
            "ankle_acc_6g_y    0.353\n",
            "ankle_acc_6g_z    0.353\n",
            "ankle_gyro_x      0.353\n",
            "ankle_gyro_y      0.353\n",
            "ankle_gyro_z      0.353\n",
            "dtype: float64\n",
            "\n",
            " PAMAP2_Dataset/Protocol/subject102.dat\n",
            "➤ Total rows: 447000 | Total NaNs: 33366\n",
            "➤ Missing percentage per column (only showing > 0%):\n",
            "hand_acc_6g_x     0.611\n",
            "hand_acc_6g_y     0.611\n",
            "hand_acc_6g_z     0.611\n",
            "hand_gyro_x       0.611\n",
            "hand_gyro_y       0.611\n",
            "hand_gyro_z       0.611\n",
            "chest_acc_6g_x    0.087\n",
            "chest_acc_6g_y    0.087\n",
            "chest_acc_6g_z    0.087\n",
            "chest_gyro_x      0.087\n",
            "chest_gyro_y      0.087\n",
            "chest_gyro_z      0.087\n",
            "ankle_acc_6g_x    0.547\n",
            "ankle_acc_6g_y    0.547\n",
            "ankle_acc_6g_z    0.547\n",
            "ankle_gyro_x      0.547\n",
            "ankle_gyro_y      0.547\n",
            "ankle_gyro_z      0.547\n",
            "dtype: float64\n",
            "\n",
            " PAMAP2_Dataset/Protocol/subject103.dat\n",
            "➤ Total rows: 252833 | Total NaNs: 7392\n",
            "➤ Missing percentage per column (only showing > 0%):\n",
            "hand_acc_6g_x     0.206\n",
            "hand_acc_6g_y     0.206\n",
            "hand_acc_6g_z     0.206\n",
            "hand_gyro_x       0.206\n",
            "hand_gyro_y       0.206\n",
            "hand_gyro_z       0.206\n",
            "chest_acc_6g_x    0.072\n",
            "chest_acc_6g_y    0.072\n",
            "chest_acc_6g_z    0.072\n",
            "chest_gyro_x      0.072\n",
            "chest_gyro_y      0.072\n",
            "chest_gyro_z      0.072\n",
            "ankle_acc_6g_x    0.208\n",
            "ankle_acc_6g_y    0.208\n",
            "ankle_acc_6g_z    0.208\n",
            "ankle_gyro_x      0.208\n",
            "ankle_gyro_y      0.208\n",
            "ankle_gyro_z      0.208\n",
            "dtype: float64\n",
            "\n",
            " PAMAP2_Dataset/Protocol/subject104.dat\n",
            "➤ Total rows: 329576 | Total NaNs: 21168\n",
            "➤ Missing percentage per column (only showing > 0%):\n",
            "hand_acc_6g_x     0.672\n",
            "hand_acc_6g_y     0.672\n",
            "hand_acc_6g_z     0.672\n",
            "hand_gyro_x       0.672\n",
            "hand_gyro_y       0.672\n",
            "hand_gyro_z       0.672\n",
            "chest_acc_6g_x    0.065\n",
            "chest_acc_6g_y    0.065\n",
            "chest_acc_6g_z    0.065\n",
            "chest_gyro_x      0.065\n",
            "chest_gyro_y      0.065\n",
            "chest_gyro_z      0.065\n",
            "ankle_acc_6g_x    0.334\n",
            "ankle_acc_6g_y    0.334\n",
            "ankle_acc_6g_z    0.334\n",
            "ankle_gyro_x      0.334\n",
            "ankle_gyro_y      0.334\n",
            "ankle_gyro_z      0.334\n",
            "dtype: float64\n",
            "\n",
            " PAMAP2_Dataset/Protocol/subject105.dat\n",
            "➤ Total rows: 374783 | Total NaNs: 22998\n",
            "➤ Missing percentage per column (only showing > 0%):\n",
            "hand_acc_6g_x     0.411\n",
            "hand_acc_6g_y     0.411\n",
            "hand_acc_6g_z     0.411\n",
            "hand_gyro_x       0.411\n",
            "hand_gyro_y       0.411\n",
            "hand_gyro_z       0.411\n",
            "chest_acc_6g_x    0.083\n",
            "chest_acc_6g_y    0.083\n",
            "chest_acc_6g_z    0.083\n",
            "chest_gyro_x      0.083\n",
            "chest_gyro_y      0.083\n",
            "chest_gyro_z      0.083\n",
            "ankle_acc_6g_x    0.528\n",
            "ankle_acc_6g_y    0.528\n",
            "ankle_acc_6g_z    0.528\n",
            "ankle_gyro_x      0.528\n",
            "ankle_gyro_y      0.528\n",
            "ankle_gyro_z      0.528\n",
            "dtype: float64\n",
            "\n",
            " PAMAP2_Dataset/Protocol/subject106.dat\n",
            "➤ Total rows: 361817 | Total NaNs: 16416\n",
            "➤ Missing percentage per column (only showing > 0%):\n",
            "hand_acc_6g_x     0.282\n",
            "hand_acc_6g_y     0.282\n",
            "hand_acc_6g_z     0.282\n",
            "hand_gyro_x       0.282\n",
            "hand_gyro_y       0.282\n",
            "hand_gyro_z       0.282\n",
            "chest_acc_6g_x    0.095\n",
            "chest_acc_6g_y    0.095\n",
            "chest_acc_6g_z    0.095\n",
            "chest_gyro_x      0.095\n",
            "chest_gyro_y      0.095\n",
            "chest_gyro_z      0.095\n",
            "ankle_acc_6g_x    0.379\n",
            "ankle_acc_6g_y    0.379\n",
            "ankle_acc_6g_z    0.379\n",
            "ankle_gyro_x      0.379\n",
            "ankle_gyro_y      0.379\n",
            "ankle_gyro_z      0.379\n",
            "dtype: float64\n",
            "\n",
            " PAMAP2_Dataset/Protocol/subject107.dat\n",
            "➤ Total rows: 313599 | Total NaNs: 16800\n",
            "➤ Missing percentage per column (only showing > 0%):\n",
            "hand_acc_6g_x     0.480\n",
            "hand_acc_6g_y     0.480\n",
            "hand_acc_6g_z     0.480\n",
            "hand_gyro_x       0.480\n",
            "hand_gyro_y       0.480\n",
            "hand_gyro_z       0.480\n",
            "chest_acc_6g_x    0.082\n",
            "chest_acc_6g_y    0.082\n",
            "chest_acc_6g_z    0.082\n",
            "chest_gyro_x      0.082\n",
            "chest_gyro_y      0.082\n",
            "chest_gyro_z      0.082\n",
            "ankle_acc_6g_x    0.331\n",
            "ankle_acc_6g_y    0.331\n",
            "ankle_acc_6g_z    0.331\n",
            "ankle_gyro_x      0.331\n",
            "ankle_gyro_y      0.331\n",
            "ankle_gyro_z      0.331\n",
            "dtype: float64\n",
            "\n",
            " PAMAP2_Dataset/Protocol/subject108.dat\n",
            "➤ Total rows: 408031 | Total NaNs: 32460\n",
            "➤ Missing percentage per column (only showing > 0%):\n",
            "hand_acc_6g_x     0.527\n",
            "hand_acc_6g_y     0.527\n",
            "hand_acc_6g_z     0.527\n",
            "hand_gyro_x       0.527\n",
            "hand_gyro_y       0.527\n",
            "hand_gyro_z       0.527\n",
            "chest_acc_6g_x    0.321\n",
            "chest_acc_6g_y    0.321\n",
            "chest_acc_6g_z    0.321\n",
            "chest_gyro_x      0.321\n",
            "chest_gyro_y      0.321\n",
            "chest_gyro_z      0.321\n",
            "ankle_acc_6g_x    0.478\n",
            "ankle_acc_6g_y    0.478\n",
            "ankle_acc_6g_z    0.478\n",
            "ankle_gyro_x      0.478\n",
            "ankle_gyro_y      0.478\n",
            "ankle_gyro_z      0.478\n",
            "dtype: float64\n",
            "\n",
            " PAMAP2_Dataset/Protocol/subject109.dat\n",
            "➤ Total rows: 8477 | Total NaNs: 378\n",
            "➤ Missing percentage per column (only showing > 0%):\n",
            "hand_acc_6g_x     0.035\n",
            "hand_acc_6g_y     0.035\n",
            "hand_acc_6g_z     0.035\n",
            "hand_gyro_x       0.035\n",
            "hand_gyro_y       0.035\n",
            "hand_gyro_z       0.035\n",
            "chest_acc_6g_x    0.602\n",
            "chest_acc_6g_y    0.602\n",
            "chest_acc_6g_z    0.602\n",
            "chest_gyro_x      0.602\n",
            "chest_gyro_y      0.602\n",
            "chest_gyro_z      0.602\n",
            "ankle_acc_6g_x    0.106\n",
            "ankle_acc_6g_y    0.106\n",
            "ankle_acc_6g_z    0.106\n",
            "ankle_gyro_x      0.106\n",
            "ankle_gyro_y      0.106\n",
            "ankle_gyro_z      0.106\n",
            "dtype: float64\n"
          ]
        }
      ]
    },
    {
      "cell_type": "code",
      "source": [
        "# Remove NaNs from every dataframe in pamap2_data\n",
        "for file_name in pamap2_data:\n",
        "    df = pamap2_data[file_name]\n",
        "    before = len(df)\n",
        "    pamap2_data[file_name] = df.dropna().reset_index(drop=True)\n",
        "    after = len(pamap2_data[file_name])\n",
        "    print(f\"Cleaned {file_name}: {before - after} rows with NaNs removed.\")\n"
      ],
      "metadata": {
        "colab": {
          "base_uri": "https://localhost:8080/"
        },
        "id": "50GFs3aBjENt",
        "outputId": "c5f4ce7d-66ae-44b6-d1b7-aed61516426c"
      },
      "execution_count": null,
      "outputs": [
        {
          "output_type": "stream",
          "name": "stdout",
          "text": [
            "Cleaned PAMAP2_Dataset/Protocol/subject101.dat: 3256 rows with NaNs removed.\n",
            "Cleaned PAMAP2_Dataset/Protocol/subject102.dat: 5432 rows with NaNs removed.\n",
            "Cleaned PAMAP2_Dataset/Protocol/subject103.dat: 1203 rows with NaNs removed.\n",
            "Cleaned PAMAP2_Dataset/Protocol/subject104.dat: 3456 rows with NaNs removed.\n",
            "Cleaned PAMAP2_Dataset/Protocol/subject105.dat: 3687 rows with NaNs removed.\n",
            "Cleaned PAMAP2_Dataset/Protocol/subject106.dat: 2647 rows with NaNs removed.\n",
            "Cleaned PAMAP2_Dataset/Protocol/subject107.dat: 2728 rows with NaNs removed.\n",
            "Cleaned PAMAP2_Dataset/Protocol/subject108.dat: 5193 rows with NaNs removed.\n",
            "Cleaned PAMAP2_Dataset/Protocol/subject109.dat: 63 rows with NaNs removed.\n"
          ]
        }
      ]
    },
    {
      "cell_type": "code",
      "source": [
        "# Confirm no NaNs exist now\n",
        "for file_name, df in pamap2_data.items():\n",
        "    nan_count = df.isna().sum().sum()\n",
        "    print(f\"{file_name}: Remaining NaNs = {nan_count}\")"
      ],
      "metadata": {
        "colab": {
          "base_uri": "https://localhost:8080/"
        },
        "id": "JLyodQQLjNDu",
        "outputId": "f8366f24-b775-40aa-8519-8e8f14b7d9a6"
      },
      "execution_count": null,
      "outputs": [
        {
          "output_type": "stream",
          "name": "stdout",
          "text": [
            "PAMAP2_Dataset/Protocol/subject101.dat: Remaining NaNs = 0\n",
            "PAMAP2_Dataset/Protocol/subject102.dat: Remaining NaNs = 0\n",
            "PAMAP2_Dataset/Protocol/subject103.dat: Remaining NaNs = 0\n",
            "PAMAP2_Dataset/Protocol/subject104.dat: Remaining NaNs = 0\n",
            "PAMAP2_Dataset/Protocol/subject105.dat: Remaining NaNs = 0\n",
            "PAMAP2_Dataset/Protocol/subject106.dat: Remaining NaNs = 0\n",
            "PAMAP2_Dataset/Protocol/subject107.dat: Remaining NaNs = 0\n",
            "PAMAP2_Dataset/Protocol/subject108.dat: Remaining NaNs = 0\n",
            "PAMAP2_Dataset/Protocol/subject109.dat: Remaining NaNs = 0\n"
          ]
        }
      ]
    },
    {
      "cell_type": "markdown",
      "source": [
        "WINDOW AND DOWNSAMPLING [100hz to 50hz]"
      ],
      "metadata": {
        "id": "6EYNjfDUes27"
      }
    },
    {
      "cell_type": "code",
      "source": [
        "def process_pamap2_windows_kmax(df, cols, window_size=256, step_size=128 , k=128):\n",
        "    X, y = [], []\n",
        "\n",
        "    for start in range(0, len(df) - window_size, step_size):\n",
        "\n",
        "        window = df[cols].iloc[start:start+window_size]\n",
        "        label_window = df['activity_id'].iloc[start:start+window_size]\n",
        "\n",
        "        if label_window.nunique() == 1:\n",
        "            window_array = window.values.T\n",
        "\n",
        "            # K-Max Pooling across time dimension (axis=1)\n",
        "            top_k = np.sort(np.partition(window_array, -k, axis=1)[:, -k:], axis=1)\n",
        "            X.append(top_k)\n",
        "            y.append(label_window.iloc[0])\n",
        "\n",
        "    return np.array(X), np.array(y)"
      ],
      "metadata": {
        "id": "yFDE6Hd3Zd0Z"
      },
      "execution_count": null,
      "outputs": []
    },
    {
      "cell_type": "code",
      "source": [
        "sensor_cols = [\n",
        "    # Hand\n",
        "    \"hand_acc_6g_x\", \"hand_acc_6g_y\", \"hand_acc_6g_z\",\n",
        "    \"hand_gyro_x\", \"hand_gyro_y\", \"hand_gyro_z\",\n",
        "    # Chest\n",
        "    \"chest_acc_6g_x\", \"chest_acc_6g_y\", \"chest_acc_6g_z\",\n",
        "    \"chest_gyro_x\", \"chest_gyro_y\", \"chest_gyro_z\",\n",
        "    # Ankle\n",
        "    \"ankle_acc_6g_x\", \"ankle_acc_6g_y\", \"ankle_acc_6g_z\",\n",
        "    \"ankle_gyro_x\", \"ankle_gyro_y\", \"ankle_gyro_z\",\n",
        "]\n"
      ],
      "metadata": {
        "id": "8SzNCajdZ3p-"
      },
      "execution_count": null,
      "outputs": []
    },
    {
      "cell_type": "code",
      "source": [
        "# X_pamap, y_pamap = [], []\n",
        "\n",
        "# for file, df in pamap2_data.items():\n",
        "#     X, y = process_pamap2_windows_kmax(\n",
        "#         df=df,\n",
        "#         cols=sensor_cols,\n",
        "#         window_size=256,\n",
        "#         step_size=128,\n",
        "#         k=128\n",
        "#     )\n",
        "#     X_pamap.append(X)\n",
        "#     y_pamap.append(y)\n"
      ],
      "metadata": {
        "id": "ofLppyB9ZsXY"
      },
      "execution_count": null,
      "outputs": []
    },
    {
      "cell_type": "code",
      "source": [
        "# pamap2_data['PAMAP2_Dataset/Protocol/subject103.dat'].columns.tolist()"
      ],
      "metadata": {
        "id": "6eXF_YzMc9d0"
      },
      "execution_count": null,
      "outputs": []
    },
    {
      "cell_type": "code",
      "source": [
        "# print(f\"Total files processed: {len(X_pamap)}\")\n"
      ],
      "metadata": {
        "id": "hh70LHROeWrO"
      },
      "execution_count": null,
      "outputs": []
    },
    {
      "cell_type": "code",
      "source": [
        "# for i, (x, y) in enumerate(zip(X_pamap, y_pamap)):\n",
        "#     print(f\"Subject {i+1}: {x.shape[0]} windows | {y.shape[0]} labels\")\n"
      ],
      "metadata": {
        "id": "Nz4v2LamqJIt"
      },
      "execution_count": null,
      "outputs": []
    },
    {
      "cell_type": "code",
      "source": [
        "# for i, (X, y) in enumerate(zip(X_pamap, y_pamap), start=101):\n",
        "#     print(f\"Subject {i}: X shape = {X.shape}, y shape = {y.shape}\")\n"
      ],
      "metadata": {
        "id": "LROz5pKNrDwW"
      },
      "execution_count": null,
      "outputs": []
    },
    {
      "cell_type": "markdown",
      "source": [
        "Getting only HAND SENSORS DATA:"
      ],
      "metadata": {
        "id": "PAqeWEZazYkT"
      }
    },
    {
      "cell_type": "code",
      "source": [
        "hand_sensor_cols = [\n",
        "    \"hand_acc_6g_x\", \"hand_acc_6g_y\", \"hand_acc_6g_z\",\n",
        "    \"hand_gyro_x\", \"hand_gyro_y\", \"hand_gyro_z\"\n",
        "]\n"
      ],
      "metadata": {
        "id": "0M--BxyO1w4e"
      },
      "execution_count": null,
      "outputs": []
    },
    {
      "cell_type": "code",
      "source": [
        "X_hand, y_hand = [], []\n",
        "\n",
        "for file, df in pamap2_data.items():\n",
        "    X, y = process_pamap2_windows_kmax(\n",
        "        df=df,\n",
        "        cols=hand_sensor_cols,\n",
        "        window_size=256,   # 2.56 seconds at 100 Hz\n",
        "        step_size=128,     # 50% overlap\n",
        "        k=128              # Downsample to 50 Hz\n",
        "    )\n",
        "    X_hand.append(X)\n",
        "    y_hand.append(y)\n"
      ],
      "metadata": {
        "id": "aLS3BtV60t-I"
      },
      "execution_count": null,
      "outputs": []
    },
    {
      "cell_type": "code",
      "source": [
        "X_hand_all = np.concatenate(X_hand, axis=0)\n",
        "y_hand_all = np.concatenate(y_hand, axis=0)"
      ],
      "metadata": {
        "id": "Ks_GXqzy1hwW"
      },
      "execution_count": null,
      "outputs": []
    },
    {
      "cell_type": "code",
      "source": [
        "X_hand_all.shape"
      ],
      "metadata": {
        "colab": {
          "base_uri": "https://localhost:8080/"
        },
        "id": "yWHPySmC3dlY",
        "outputId": "187712b7-fd40-4c4e-9e86-b307ac6adca1"
      },
      "execution_count": null,
      "outputs": [
        {
          "output_type": "execute_result",
          "data": {
            "text/plain": [
              "(21841, 6, 128)"
            ]
          },
          "metadata": {},
          "execution_count": 30
        }
      ]
    },
    {
      "cell_type": "markdown",
      "source": [
        "EXTRACTING COMMON ACTIVITIES AS IN UCI HAR DATASET"
      ],
      "metadata": {
        "id": "UnEH2obC71ZX"
      }
    },
    {
      "cell_type": "code",
      "source": [
        "common_pamap_activities = [1, 2, 3, 4, 12, 13]\n",
        "\n",
        "mask = np.isin(y_hand_all , common_pamap_activities)\n",
        "\n",
        "X_hand_common = X_hand_all[mask]\n",
        "y_hand_common = y_hand_all[mask]\n",
        "\n",
        "print(f\"Filtered X shape: {X_hand_common.shape}\")\n",
        "print(f\"Filtered y shape: {y_hand_common.shape}\")\n",
        "print(\"Unique activities in filtered labels:\", np.unique(y_hand_common))\n"
      ],
      "metadata": {
        "colab": {
          "base_uri": "https://localhost:8080/"
        },
        "id": "VKFaH8T94tVj",
        "outputId": "6ce5a110-4c10-4870-b377-1be5b24a44cb"
      },
      "execution_count": null,
      "outputs": [
        {
          "output_type": "stream",
          "name": "stdout",
          "text": [
            "Filtered X shape: (7823, 6, 128)\n",
            "Filtered y shape: (7823,)\n",
            "Unique activities in filtered labels: [ 1  2  3  4 12 13]\n"
          ]
        }
      ]
    },
    {
      "cell_type": "code",
      "source": [
        "np.savez_compressed('pamap2_hand_common.npz', X=X_hand_common, y=y_hand_common)"
      ],
      "metadata": {
        "id": "G-OEcU23fxft"
      },
      "execution_count": null,
      "outputs": []
    },
    {
      "cell_type": "markdown",
      "source": [
        "UCI DATASET"
      ],
      "metadata": {
        "id": "j1pW7lMzqPKE"
      }
    },
    {
      "cell_type": "code",
      "source": [
        "import numpy as np\n",
        "import os\n",
        "\n",
        "# Base UCI HAR dataset directory\n",
        "base_dir = \"/content/drive/MyDrive/UCI HAR Dataset\"\n",
        "\n",
        "# 6 relevant inertial signal files\n",
        "sensor_files = [\n",
        "    \"body_acc_x\", \"body_acc_y\", \"body_acc_z\",\n",
        "    \"body_gyro_x\", \"body_gyro_y\", \"body_gyro_z\"\n",
        "]\n",
        "\n",
        "def load_uci_split(split=\"train\"):\n",
        "    signal_data = []\n",
        "    for sensor in sensor_files:\n",
        "        file_path = os.path.join(base_dir, split, \"Inertial Signals\", f\"{sensor}_{split}.txt\")\n",
        "        data = np.loadtxt(file_path)  # shape: (num_windows, 128)\n",
        "        signal_data.append(data)\n",
        "\n",
        "    # Stack into shape: (num_windows, 6, 128)\n",
        "    X_split = np.stack(signal_data, axis=1)\n",
        "\n",
        "    # Load activity labels\n",
        "    y_path = os.path.join(base_dir, split, f\"y_{split}.txt\")\n",
        "    y_split = np.loadtxt(y_path).astype(int)\n",
        "\n",
        "    return X_split, y_split\n",
        "\n",
        "# Load separately\n",
        "X_uci_train, y_uci_train = load_uci_split(\"train\")\n",
        "X_uci_test, y_uci_test = load_uci_split(\"test\")\n",
        "\n",
        "# Check shapes\n",
        "print(\"Loaded UCI HAR train and test separately:\")\n",
        "print(f\"X_uci_train: {X_uci_train.shape}, y_uci_train: {y_uci_train.shape}\")\n",
        "print(f\"X_uci_test: {X_uci_test.shape}, y_uci_test: {y_uci_test.shape}\")\n"
      ],
      "metadata": {
        "colab": {
          "base_uri": "https://localhost:8080/"
        },
        "id": "Cp73oUIwlPJp",
        "outputId": "dbd6d43a-e535-4054-9903-9bde1debff01"
      },
      "execution_count": null,
      "outputs": [
        {
          "output_type": "stream",
          "name": "stdout",
          "text": [
            "✅ Loaded UCI HAR train and test separately:\n",
            "X_uci_train: (7352, 6, 128), y_uci_train: (7352,)\n",
            "X_uci_test: (2947, 6, 128), y_uci_test: (2947,)\n"
          ]
        }
      ]
    },
    {
      "cell_type": "code",
      "source": [
        "# Combine only training-related data\n",
        "X_train_combined = np.concatenate([X_hand_common, X_uci_train], axis=0)\n",
        "y_train_combined = np.concatenate([y_hand_common, y_uci_train], axis=0)\n",
        "\n",
        "print(f\"Training X: {X_train_combined.shape}, y: {y_train_combined.shape}\")"
      ],
      "metadata": {
        "colab": {
          "base_uri": "https://localhost:8080/"
        },
        "id": "fMy1Xh5NqL_L",
        "outputId": "5e54f6e2-4294-46aa-e66a-acd8272b9631"
      },
      "execution_count": null,
      "outputs": [
        {
          "output_type": "stream",
          "name": "stdout",
          "text": [
            "Training X: (15175, 6, 128), y: (15175,)\n"
          ]
        }
      ]
    },
    {
      "cell_type": "code",
      "source": [
        "X_train_combined"
      ],
      "metadata": {
        "colab": {
          "base_uri": "https://localhost:8080/"
        },
        "id": "ilkhEdeQqTAH",
        "outputId": "fee67691-7edf-456a-bae0-e69dc24c677e"
      },
      "execution_count": null,
      "outputs": [
        {
          "output_type": "execute_result",
          "data": {
            "text/plain": [
              "array([[[-8.925340e-01, -8.232470e-01, -8.219690e-01, ...,\n",
              "          3.123890e+00,  3.136310e+00,  3.195610e+00],\n",
              "        [ 7.831890e+00,  7.831960e+00,  7.871280e+00, ...,\n",
              "          1.137660e+01,  1.161770e+01,  1.204210e+01],\n",
              "        [ 5.245460e+00,  5.274990e+00,  5.279320e+00, ...,\n",
              "          8.131870e+00,  8.670690e+00,  8.779140e+00],\n",
              "        [ 1.353280e-01,  1.379200e-01,  1.552890e-01, ...,\n",
              "          1.382760e+00,  1.515830e+00,  1.564260e+00],\n",
              "        [ 4.837670e-01,  4.946680e-01,  4.955100e-01, ...,\n",
              "          1.255800e+00,  1.265290e+00,  1.287300e+00],\n",
              "        [ 9.688590e-02,  9.792640e-02,  1.006640e-01, ...,\n",
              "          6.478730e-01,  6.620720e-01,  7.072560e-01]],\n",
              "\n",
              "       [[-1.468400e+00, -1.442720e+00, -1.436830e+00, ...,\n",
              "          1.337900e-01,  5.242550e-01,  1.226890e+00],\n",
              "        [ 9.229330e+00,  9.241510e+00,  9.278290e+00, ...,\n",
              "          1.237800e+01,  1.242410e+01,  1.253970e+01],\n",
              "        [ 2.858190e+00,  2.859190e+00,  2.873260e+00, ...,\n",
              "          6.309580e+00,  6.825410e+00,  6.901960e+00],\n",
              "        [ 1.321400e-01,  1.552890e-01,  1.556800e-01, ...,\n",
              "          2.165650e+00,  2.239950e+00,  2.241520e+00],\n",
              "        [ 2.079530e-01,  2.136740e-01,  2.157470e-01, ...,\n",
              "          9.806010e-01,  1.058530e+00,  1.092040e+00],\n",
              "        [ 1.172590e-01,  1.273410e-01,  1.403460e-01, ...,\n",
              "          9.299790e-01,  9.549580e-01,  9.574550e-01]],\n",
              "\n",
              "       [[-1.144400e+00, -1.140600e+00, -1.134840e+00, ...,\n",
              "          6.949520e-01,  8.765810e-01,  8.901550e-01],\n",
              "        [ 8.381700e+00,  8.424300e+00,  8.443060e+00, ...,\n",
              "          1.237800e+01,  1.242410e+01,  1.253970e+01],\n",
              "        [ 4.399410e+00,  4.403150e+00,  4.418120e+00, ...,\n",
              "          7.334790e+00,  7.588890e+00,  7.619010e+00],\n",
              "        [-2.448660e-01, -2.424150e-01, -2.357870e-01, ...,\n",
              "          2.241520e+00,  2.268450e+00,  2.356640e+00],\n",
              "        [ 3.358670e-02,  3.476020e-02,  3.484810e-02, ...,\n",
              "          6.901430e-01,  6.941000e-01,  7.037870e-01],\n",
              "        [ 8.321740e-02,  8.469760e-02,  8.559060e-02, ...,\n",
              "          9.299790e-01,  9.549580e-01,  9.574550e-01]],\n",
              "\n",
              "       ...,\n",
              "\n",
              "       [[-2.267175e-01, -1.778169e-01, -1.508691e-01, ...,\n",
              "         -2.949353e-01, -2.434030e-01, -2.152148e-01],\n",
              "        [ 5.684462e-02,  2.716956e-02, -5.757124e-03, ...,\n",
              "         -1.123039e-02, -7.121083e-02, -1.182353e-01],\n",
              "        [ 2.289274e-01,  2.890968e-01,  3.165541e-01, ...,\n",
              "          9.884312e-02,  1.158437e-01,  1.802014e-01],\n",
              "        [ 1.183561e-01,  1.378901e-01,  1.774201e-01, ...,\n",
              "         -7.609545e-01, -6.779630e-01, -6.275012e-01],\n",
              "        [ 4.267019e-01,  3.223201e-01,  2.331586e-01, ...,\n",
              "          6.840804e-01,  6.291636e-01,  4.812542e-01],\n",
              "        [ 3.008475e-01,  3.511780e-01,  2.723513e-01, ...,\n",
              "          2.543444e-01,  2.814308e-01,  2.542062e-01]],\n",
              "\n",
              "       [[-6.480597e-02, -7.993300e-02, -6.834966e-02, ...,\n",
              "         -3.150159e-01, -3.307374e-01, -2.723475e-01],\n",
              "        [-5.740777e-03, -3.260742e-03,  3.351273e-02, ...,\n",
              "          5.451652e-02,  1.436651e-02, -1.284256e-02],\n",
              "        [ 3.102535e-01,  3.429152e-01,  3.850993e-01, ...,\n",
              "          1.658256e-01,  2.109568e-01,  2.505605e-01],\n",
              "        [-3.788723e-01, -3.738884e-01, -3.301252e-01, ...,\n",
              "         -4.254607e-01, -4.755471e-01, -4.129589e-01],\n",
              "        [ 1.642781e-01,  6.393670e-02, -9.430612e-02, ...,\n",
              "          6.504409e-01,  4.097342e-01,  1.998230e-01],\n",
              "        [ 2.175042e-01,  1.584971e-01,  1.868787e-01, ...,\n",
              "          1.762117e-01,  1.635609e-01,  1.887340e-01]],\n",
              "\n",
              "       [[-1.944707e-01, -1.738025e-01, -1.275446e-01, ...,\n",
              "         -7.190685e-02, -1.422088e-01, -1.709989e-01],\n",
              "        [-9.723743e-02, -5.831043e-02,  2.447115e-03, ...,\n",
              "         -1.943222e-01, -1.470701e-01, -1.313991e-01],\n",
              "        [ 2.030342e-01,  2.267976e-01,  3.319892e-01, ...,\n",
              "         -1.275547e-01, -9.236675e-02, -5.112688e-02],\n",
              "        [-4.767788e-01, -2.679120e-01, -1.905664e-01, ...,\n",
              "          1.004855e+00,  1.015589e+00,  1.047599e+00],\n",
              "        [ 2.889329e-01,  1.712000e-01,  1.424723e-01, ...,\n",
              "          1.156645e+00,  1.100750e+00,  1.011324e+00],\n",
              "        [ 2.277976e-01,  1.034757e-01, -7.565458e-02, ...,\n",
              "         -3.625121e-01, -3.839895e-01, -3.358840e-01]]])"
            ]
          },
          "metadata": {},
          "execution_count": 43
        }
      ]
    },
    {
      "cell_type": "code",
      "source": [
        "np.savez_compressed('uci_pamap2_combined_dataset.npz', X=X_train_combined, y=y_train_combined)"
      ],
      "metadata": {
        "id": "sP-khU46qefT"
      },
      "execution_count": null,
      "outputs": []
    },
    {
      "cell_type": "code",
      "source": [
        "# Compute stats across entire dataset (flattened over time axis)\n",
        "print(\"Mean per channel:\", np.mean(X_train_combined, axis=(0, 2)))\n",
        "print(\"Std deviation per channel:\", np.std(X_train_combined, axis=(0, 2)))\n",
        "print(\"Min per channel:\", np.min(X_train_combined, axis=(0, 2)))\n",
        "print(\"Max per channel:\", np.max(X_train_combined, axis=(0, 2)))\n"
      ],
      "metadata": {
        "colab": {
          "base_uri": "https://localhost:8080/"
        },
        "id": "AKGDXu4_qt-X",
        "outputId": "907727d3-fca8-46bc-c912-f8f65268c803"
      },
      "execution_count": null,
      "outputs": [
        {
          "metadata": {
            "tags": null
          },
          "name": "stdout",
          "output_type": "stream",
          "text": [
            "🧪 Mean per channel: [-1.74520835  2.04312193  2.42211643  0.30033552  0.20917903  0.36060468]\n",
            "📈 Std deviation per channel: [4.287851   3.32645084 3.13031334 0.8413845  0.59277173 0.91471134]\n",
            "🔍 Min per channel: [-15.1982    -9.70226   -8.43529   -4.733656  -5.97433   -2.763014]\n",
            "🔍 Max per channel: [28.6948 54.4933 61.9234 21.8452 16.9171 10.5557]\n"
          ]
        }
      ]
    },
    {
      "cell_type": "code",
      "source": [
        "# Standardize your training data\n",
        "mean = np.mean(X_train_combined, axis=(0, 2), keepdims=True)\n",
        "std = np.std(X_train_combined, axis=(0, 2), keepdims=True)\n",
        "\n",
        "X_train_standardized = (X_train_combined - mean) / std\n"
      ],
      "metadata": {
        "id": "4rfPjC2XrX9x"
      },
      "execution_count": null,
      "outputs": []
    },
    {
      "cell_type": "code",
      "source": [
        "# Compute stats across entire dataset (flattened over time axis)\n",
        "print(\" Mean per channel:\", np.mean(X_train_standardized, axis=(0, 2)))\n",
        "print(\" Std deviation per channel:\", np.std(X_train_standardized, axis=(0, 2)))\n",
        "print(\" Min per channel:\", np.min(X_train_standardized, axis=(0, 2)))\n",
        "print(\" Max per channel:\", np.max(X_train_standardized, axis=(0, 2)))\n"
      ],
      "metadata": {
        "colab": {
          "base_uri": "https://localhost:8080/"
        },
        "id": "4IrKu6FeruK9",
        "outputId": "176c2dd2-43a3-4351-ff53-a1f952e75648"
      },
      "execution_count": null,
      "outputs": [
        {
          "output_type": "stream",
          "name": "stdout",
          "text": [
            "🧪 Mean per channel: [-7.32491132e-16 -4.96598552e-15  2.28738866e-15 -3.01819708e-16\n",
            " -1.12593076e-15 -5.08445565e-16]\n",
            "📈 Std deviation per channel: [1. 1. 1. 1. 1. 1.]\n",
            "🔍 Min per channel: [ -3.13746714  -3.53090501  -3.46847273  -5.98298583 -10.43151806\n",
            "  -3.41486822]\n",
            "🔍 Max per channel: [ 7.09912922 15.76760955 19.0080919  25.60644341 28.18609601 11.14569691]\n"
          ]
        }
      ]
    },
    {
      "cell_type": "code",
      "source": [
        "np.savez(\"/content/drive/MyDrive/normalization_stats.npz\", mean=mean, std=std)\n"
      ],
      "metadata": {
        "id": "C3mrT2Qnr0PX"
      },
      "execution_count": null,
      "outputs": []
    },
    {
      "cell_type": "code",
      "source": [
        "np.savez_compressed('X_train_standardized', X=X_hand_common, y=y_hand_common)"
      ],
      "metadata": {
        "id": "ga1iiYCwsFCL"
      },
      "execution_count": null,
      "outputs": []
    },
    {
      "cell_type": "code",
      "source": [
        "import os\n",
        "\n",
        "# Create the directory if it doesn't exist\n",
        "os.makedirs(\"/content/drive/MyDrive/UCI+PAMAP2_COMBINED_PROCESSED\", exist_ok=True)\n",
        "\n",
        "# Now save\n",
        "np.savez_compressed(\n",
        "    \"/content/drive/MyDrive/processed/X_train_standardized.npz\",\n",
        "    X=X_train_standardized,\n",
        "    y=y_train_combined,\n",
        "    mean=mean,\n",
        "    std=std\n",
        ")\n"
      ],
      "metadata": {
        "id": "i98pFN4tsxpV"
      },
      "execution_count": null,
      "outputs": []
    },
    {
      "cell_type": "code",
      "source": [],
      "metadata": {
        "id": "WwnQ04cao0KN"
      },
      "execution_count": null,
      "outputs": []
    }
  ]
}